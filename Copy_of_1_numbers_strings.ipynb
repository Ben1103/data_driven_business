{
  "cells": [
    {
      "cell_type": "markdown",
      "metadata": {
        "id": "view-in-github",
        "colab_type": "text"
      },
      "source": [
        "<a href=\"https://colab.research.google.com/github/Ben1103/data_driven_business/blob/main/Copy_of_1_numbers_strings.ipynb\" target=\"_parent\"><img src=\"https://colab.research.google.com/assets/colab-badge.svg\" alt=\"Open In Colab\"/></a>"
      ]
    },
    {
      "cell_type": "markdown",
      "metadata": {
        "id": "GG8cSDex9jqw"
      },
      "source": [
        "# Numbers and Strings\n",
        "\n",
        "In Python, like in any other programming language and in general in life, we _do things_ with _stuff_. Most of this course will focus on the things we do and how to do them. But today we will talk about the stuff.\n",
        "\n",
        "Almost everything in Python is an object. We will deal with numbers, text, lists, dictionaries... all of those things are different types of Python objects.\n",
        "\n",
        "The type of an object defines what can you do with it, and how will it behave. You can sum two numbers and they will behave just as mathematics define that sums work:"
      ]
    },
    {
      "cell_type": "code",
      "execution_count": null,
      "metadata": {
        "id": "3sGGztmy9jqz",
        "outputId": "1791889e-5df4-48ef-da77-aa599e8b90e9",
        "colab": {
          "base_uri": "https://localhost:8080/"
        }
      },
      "outputs": [
        {
          "output_type": "execute_result",
          "data": {
            "text/plain": [
              "4"
            ]
          },
          "metadata": {},
          "execution_count": 1
        }
      ],
      "source": [
        "2 + 2"
      ]
    },
    {
      "cell_type": "markdown",
      "metadata": {
        "id": "P--VHI4w9jq2"
      },
      "source": [
        "But if you try to sum two strings, he behaviour will be different:"
      ]
    },
    {
      "cell_type": "code",
      "execution_count": null,
      "metadata": {
        "id": "Vbnc7Kfh9jq3",
        "outputId": "129beb4b-8428-45b0-8e02-2f164e0e1c73",
        "colab": {
          "base_uri": "https://localhost:8080/",
          "height": 35
        }
      },
      "outputs": [
        {
          "output_type": "execute_result",
          "data": {
            "text/plain": [
              "'22'"
            ],
            "application/vnd.google.colaboratory.intrinsic+json": {
              "type": "string"
            }
          },
          "metadata": {},
          "execution_count": 2
        }
      ],
      "source": [
        "\"2\" + \"2\""
      ]
    },
    {
      "cell_type": "markdown",
      "metadata": {
        "id": "1vXMNDRA9jq3"
      },
      "source": [
        "Any object in Python can be assigned to a variable with the `=` operator. Variables are just names for objects —you can visualize them as tags that allow us to identify or call our objects."
      ]
    },
    {
      "cell_type": "code",
      "execution_count": null,
      "metadata": {
        "id": "_580VfMW9jq4"
      },
      "outputs": [],
      "source": [
        "result = 4 + 3"
      ]
    },
    {
      "cell_type": "markdown",
      "metadata": {
        "id": "gMrCtWGE9jq4"
      },
      "source": [
        "At any point, we can retrieve whatever we stored in a variable that was previously defined:"
      ]
    },
    {
      "cell_type": "code",
      "execution_count": null,
      "metadata": {
        "id": "AaWJYeHW9jq5",
        "outputId": "0a5aaab0-dba2-4e23-8f35-8ac7ddd5f84e",
        "colab": {
          "base_uri": "https://localhost:8080/"
        }
      },
      "outputs": [
        {
          "output_type": "stream",
          "name": "stdout",
          "text": [
            "7\n"
          ]
        }
      ],
      "source": [
        "print(result)"
      ]
    },
    {
      "cell_type": "markdown",
      "metadata": {
        "id": "-xH_7viN9jq5"
      },
      "source": [
        "If we want to find out what type of object does a variable, hold, we can ask it with the function `type()`, like this:"
      ]
    },
    {
      "cell_type": "code",
      "execution_count": null,
      "metadata": {
        "id": "gU3ZbrAk9jq6",
        "outputId": "1d645da2-b095-4542-ef79-584f623dad18",
        "colab": {
          "base_uri": "https://localhost:8080/"
        }
      },
      "outputs": [
        {
          "output_type": "execute_result",
          "data": {
            "text/plain": [
              "int"
            ]
          },
          "metadata": {},
          "execution_count": 5
        }
      ],
      "source": [
        "type(result)"
      ]
    },
    {
      "cell_type": "markdown",
      "metadata": {
        "id": "e3r8xQc-9jq6"
      },
      "source": [
        "**Exercise:** Sum `100` plus `3.4` and assign it to the variable `addition`. Print the type of that variable."
      ]
    },
    {
      "cell_type": "code",
      "execution_count": null,
      "metadata": {
        "id": "MC6QjWi29jq6"
      },
      "outputs": [],
      "source": [
        "# your code here"
      ]
    },
    {
      "cell_type": "markdown",
      "metadata": {
        "id": "uBveabbD9jq7"
      },
      "source": [
        "## Booleans\n",
        "\n",
        "The values `True` and `False` are special in Python. They are called \"booleans\"."
      ]
    },
    {
      "cell_type": "code",
      "execution_count": null,
      "metadata": {
        "id": "cAlYm9kJ9jq7",
        "outputId": "e7f9a286-559f-444e-bf78-b3c64be3f112",
        "colab": {
          "base_uri": "https://localhost:8080/"
        }
      },
      "outputs": [
        {
          "output_type": "execute_result",
          "data": {
            "text/plain": [
              "bool"
            ]
          },
          "metadata": {},
          "execution_count": 7
        }
      ],
      "source": [
        "type(True)"
      ]
    },
    {
      "cell_type": "code",
      "execution_count": null,
      "metadata": {
        "id": "AXToyxAt9jq7",
        "outputId": "1c3957bc-0530-4ddb-ffe1-614051604e12",
        "colab": {
          "base_uri": "https://localhost:8080/"
        }
      },
      "outputs": [
        {
          "output_type": "execute_result",
          "data": {
            "text/plain": [
              "bool"
            ]
          },
          "metadata": {},
          "execution_count": 8
        }
      ],
      "source": [
        "type(False)"
      ]
    },
    {
      "cell_type": "markdown",
      "metadata": {
        "id": "J1Ltqfls9jq7"
      },
      "source": [
        "If you try to use mathematical operations with booleans, will see how `True` equates to `1` and `False` equates to `0`\n"
      ]
    },
    {
      "cell_type": "code",
      "execution_count": null,
      "metadata": {
        "id": "mwsFtaDZ9jq8",
        "outputId": "d33e8bba-1032-4bd9-fb22-846b35a9ba87",
        "colab": {
          "base_uri": "https://localhost:8080/"
        }
      },
      "outputs": [
        {
          "output_type": "execute_result",
          "data": {
            "text/plain": [
              "2"
            ]
          },
          "metadata": {},
          "execution_count": 9
        }
      ],
      "source": [
        "True + True"
      ]
    },
    {
      "cell_type": "code",
      "execution_count": null,
      "metadata": {
        "id": "HhT2fJJJ9jq8",
        "outputId": "7240719f-8e89-47cf-ef34-d196c7114162",
        "colab": {
          "base_uri": "https://localhost:8080/"
        }
      },
      "outputs": [
        {
          "output_type": "execute_result",
          "data": {
            "text/plain": [
              "0"
            ]
          },
          "metadata": {},
          "execution_count": 10
        }
      ],
      "source": [
        "False + False"
      ]
    },
    {
      "cell_type": "markdown",
      "metadata": {
        "id": "mIrc9DDk9jq8"
      },
      "source": [
        "## Integers\n",
        "\n",
        "Integers are whole numbers (without fractions or decimal points) that can be negative or positive."
      ]
    },
    {
      "cell_type": "code",
      "execution_count": null,
      "metadata": {
        "id": "mLef5s7O9jq8",
        "outputId": "011a2fb3-ba02-4bfc-aa10-a964955d4d02",
        "colab": {
          "base_uri": "https://localhost:8080/"
        }
      },
      "outputs": [
        {
          "output_type": "execute_result",
          "data": {
            "text/plain": [
              "int"
            ]
          },
          "metadata": {},
          "execution_count": 11
        }
      ],
      "source": [
        "type(-8)"
      ]
    },
    {
      "cell_type": "markdown",
      "metadata": {
        "id": "TGTFBWwS9jq9"
      },
      "source": [
        "You can use math operators with integers:\n",
        "\n",
        "- `+` Addition\n",
        "- `-` Substraction\n",
        "- `*` Multiplication\n",
        "- `/` Folating-point division\n",
        "- `//` Truncating division\n",
        "- `%` Modulus\n",
        "- `**` Exponentiation"
      ]
    },
    {
      "cell_type": "markdown",
      "metadata": {
        "id": "RdTqurnS9jq9"
      },
      "source": [
        "**Exercise**: assign the number corresponding to the present year to the variable `year` and your age to the variable `age`. Operate with both variables to create a new variable called `birth_year`."
      ]
    },
    {
      "cell_type": "code",
      "execution_count": null,
      "metadata": {
        "id": "LWxyFfCj9jq9"
      },
      "outputs": [],
      "source": [
        "# your code here"
      ]
    },
    {
      "cell_type": "markdown",
      "metadata": {
        "id": "9HB_1T5j9jq9"
      },
      "source": [
        "You can update the value of a variable like this:"
      ]
    },
    {
      "cell_type": "code",
      "execution_count": null,
      "metadata": {
        "id": "hexmreCK9jq9",
        "outputId": "89150992-9ac2-4236-996d-ed95d490bf23",
        "colab": {
          "base_uri": "https://localhost:8080/"
        }
      },
      "outputs": [
        {
          "output_type": "stream",
          "name": "stdout",
          "text": [
            "31\n"
          ]
        }
      ],
      "source": [
        "age = 30\n",
        "age = age + 1\n",
        "print(age)"
      ]
    },
    {
      "cell_type": "markdown",
      "metadata": {
        "id": "fOg2IqIi9jq-"
      },
      "source": [
        "Or you can combine both arithmetic operators:"
      ]
    },
    {
      "cell_type": "code",
      "execution_count": null,
      "metadata": {
        "id": "sYAzFGxI9jq-",
        "outputId": "4588a9b7-ddd2-4b45-ed62-7846588430dc",
        "colab": {
          "base_uri": "https://localhost:8080/"
        }
      },
      "outputs": [
        {
          "output_type": "stream",
          "name": "stdout",
          "text": [
            "31\n"
          ]
        }
      ],
      "source": [
        "age = 30\n",
        "age += 1\n",
        "print(age)"
      ]
    },
    {
      "cell_type": "markdown",
      "metadata": {
        "id": "1jGUon5V9jq-"
      },
      "source": [
        "**Exercise**: The same holds for other operators. Create a variable called `price` with the value `100`. Then update its value in a single line by multiplying it by `2`."
      ]
    },
    {
      "cell_type": "code",
      "execution_count": null,
      "metadata": {
        "id": "y18avwiY9jq-"
      },
      "outputs": [],
      "source": [
        "# your code here"
      ]
    },
    {
      "cell_type": "markdown",
      "metadata": {
        "id": "2GvpaJ819jq_"
      },
      "source": [
        "You can convert stuff that's not an integer to an integer with the function `int`:"
      ]
    },
    {
      "cell_type": "code",
      "execution_count": null,
      "metadata": {
        "id": "cwre3wND9jq_",
        "outputId": "0ce0c5b8-5e50-4b4e-db3e-f3b6dd78aa7d",
        "colab": {
          "base_uri": "https://localhost:8080/"
        }
      },
      "outputs": [
        {
          "output_type": "execute_result",
          "data": {
            "text/plain": [
              "3"
            ]
          },
          "metadata": {},
          "execution_count": 16
        }
      ],
      "source": [
        "int(3.14)"
      ]
    },
    {
      "cell_type": "code",
      "execution_count": null,
      "metadata": {
        "id": "oZTt6ynH9jrA",
        "outputId": "ef41e2a4-3225-45c6-c1ea-a416cf8855d6",
        "colab": {
          "base_uri": "https://localhost:8080/"
        }
      },
      "outputs": [
        {
          "output_type": "execute_result",
          "data": {
            "text/plain": [
              "4"
            ]
          },
          "metadata": {},
          "execution_count": 17
        }
      ],
      "source": [
        "int(\"4\")"
      ]
    },
    {
      "cell_type": "markdown",
      "metadata": {
        "id": "npt0J-8m9jrA"
      },
      "source": [
        "If you try to convert to an integer something that cannot be interpreted as such, you will get an *exception*:"
      ]
    },
    {
      "cell_type": "code",
      "execution_count": null,
      "metadata": {
        "id": "uQ4cUvAu9jrA",
        "outputId": "a28a8453-8804-4f66-b75c-72a0bbbed84d",
        "colab": {
          "base_uri": "https://localhost:8080/",
          "height": 165
        }
      },
      "outputs": [
        {
          "output_type": "error",
          "ename": "ValueError",
          "evalue": "ignored",
          "traceback": [
            "\u001b[0;31m---------------------------------------------------------------------------\u001b[0m",
            "\u001b[0;31mValueError\u001b[0m                                Traceback (most recent call last)",
            "\u001b[0;32m<ipython-input-18-159e72cb0883>\u001b[0m in \u001b[0;36m<module>\u001b[0;34m()\u001b[0m\n\u001b[0;32m----> 1\u001b[0;31m \u001b[0mint\u001b[0m\u001b[0;34m(\u001b[0m\u001b[0;34m\"Hey hey hey\"\u001b[0m\u001b[0;34m)\u001b[0m\u001b[0;34m\u001b[0m\u001b[0;34m\u001b[0m\u001b[0m\n\u001b[0m",
            "\u001b[0;31mValueError\u001b[0m: invalid literal for int() with base 10: 'Hey hey hey'"
          ]
        }
      ],
      "source": [
        "int(\"Hey hey hey\")"
      ]
    },
    {
      "cell_type": "markdown",
      "metadata": {
        "id": "79CbyD_G9jrA"
      },
      "source": [
        "## Floats\n",
        "\n",
        "Those are numbers with decimal points"
      ]
    },
    {
      "cell_type": "code",
      "execution_count": null,
      "metadata": {
        "id": "cprwKJOd9jrA",
        "outputId": "cedb8943-05c3-426e-9e58-fe6d49bc97c1",
        "colab": {
          "base_uri": "https://localhost:8080/"
        }
      },
      "outputs": [
        {
          "output_type": "execute_result",
          "data": {
            "text/plain": [
              "3.0"
            ]
          },
          "metadata": {},
          "execution_count": 19
        }
      ],
      "source": [
        "3."
      ]
    },
    {
      "cell_type": "markdown",
      "metadata": {
        "id": "n87g1nka9jrA"
      },
      "source": [
        "They can include the letter e for an exponent:"
      ]
    },
    {
      "cell_type": "code",
      "execution_count": null,
      "metadata": {
        "id": "EVKKC8s_9jrA",
        "outputId": "26148d8b-1fd0-4e24-8991-78cf029cce9c",
        "colab": {
          "base_uri": "https://localhost:8080/"
        }
      },
      "outputs": [
        {
          "output_type": "execute_result",
          "data": {
            "text/plain": [
              "300.0"
            ]
          },
          "metadata": {},
          "execution_count": 20
        }
      ],
      "source": [
        "3e2"
      ]
    },
    {
      "cell_type": "markdown",
      "metadata": {
        "id": "br3KdAjT9jrA"
      },
      "source": [
        "The function `float()` can be used to convert integers to floats:"
      ]
    },
    {
      "cell_type": "code",
      "execution_count": null,
      "metadata": {
        "id": "ySxvm6mG9jrB",
        "outputId": "534a5d0d-c395-4aff-ffc8-fb5c257525f6",
        "colab": {
          "base_uri": "https://localhost:8080/"
        }
      },
      "outputs": [
        {
          "output_type": "execute_result",
          "data": {
            "text/plain": [
              "24.0"
            ]
          },
          "metadata": {},
          "execution_count": 21
        }
      ],
      "source": [
        "float(24)"
      ]
    },
    {
      "cell_type": "markdown",
      "metadata": {
        "id": "juzlA6IZ9jrB"
      },
      "source": [
        "**Exercise**: \n",
        "\n",
        "- Using Python, compute how many seconds are there in a year. Store that number in a variable called `year_seconds`.\n",
        "\n",
        "- Multiply that number by your age and store it in a new variable called `life_seconds`\n",
        "\n",
        "- Find out how many seconds are there in the time you'll spend coursing this bootcamp. Store it into a variable called `bootcamp`.\n",
        "\n",
        "- Find out what percentage of your life will you spend coursing this bootcamp.\n"
      ]
    },
    {
      "cell_type": "code",
      "execution_count": null,
      "metadata": {
        "id": "QkoVq44S9jrB",
        "outputId": "a444d7e0-9857-4c21-89eb-06bd9b18bf24",
        "colab": {
          "base_uri": "https://localhost:8080/"
        }
      },
      "outputs": [
        {
          "output_type": "stream",
          "name": "stdout",
          "text": [
            "31536000\n"
          ]
        }
      ],
      "source": [
        "year_seconds = 365*24*60*60\n",
        "print(year_seconds)"
      ]
    },
    {
      "cell_type": "code",
      "execution_count": null,
      "metadata": {
        "id": "AfdghPiM9jrB",
        "outputId": "fe76c1f7-7fe5-43e8-c16d-6b30848a3718",
        "colab": {
          "base_uri": "https://localhost:8080/"
        }
      },
      "outputs": [
        {
          "output_type": "stream",
          "name": "stdout",
          "text": [
            "946080000\n"
          ]
        }
      ],
      "source": [
        "life_seconds = year_seconds * 30\n",
        "print(life_seconds)"
      ]
    },
    {
      "cell_type": "code",
      "execution_count": null,
      "metadata": {
        "id": "sXlpbvbD9jrB",
        "outputId": "2e6e7d7f-74a7-4e63-c537-5de6c21400dd",
        "colab": {
          "base_uri": "https://localhost:8080/"
        }
      },
      "outputs": [
        {
          "output_type": "stream",
          "name": "stdout",
          "text": [
            "3402000\n"
          ]
        }
      ],
      "source": [
        "bootcamp = 15*7*9*60*60\n",
        "print(bootcamp)"
      ]
    },
    {
      "cell_type": "code",
      "execution_count": null,
      "metadata": {
        "id": "vkv5XOWp9jrB",
        "outputId": "e051d77b-f432-40dc-e5d0-3c17d135a0de",
        "colab": {
          "base_uri": "https://localhost:8080/"
        }
      },
      "outputs": [
        {
          "output_type": "stream",
          "name": "stdout",
          "text": [
            "0.36\n"
          ]
        }
      ],
      "source": [
        "print(round(float((bootcamp / life_seconds)* 100),2))"
      ]
    },
    {
      "cell_type": "markdown",
      "metadata": {
        "id": "SJAbW5In9jrB"
      },
      "source": [
        "## Text Strings\n",
        "\n",
        "You will use text just as much as numbers when programming. Strings are created with either single quotes `'` or double quotes `\"`:"
      ]
    },
    {
      "cell_type": "code",
      "execution_count": null,
      "metadata": {
        "id": "Rxgolhes9jrB",
        "outputId": "1f359bba-67b3-4f9b-a9a2-c81f20a7c5e5",
        "colab": {
          "base_uri": "https://localhost:8080/"
        }
      },
      "outputs": [
        {
          "output_type": "stream",
          "name": "stdout",
          "text": [
            "A string with double quotes\n",
            "A string with single quotes\n"
          ]
        }
      ],
      "source": [
        "print(\"A string with double quotes\")\n",
        "\n",
        "print('A string with single quotes')"
      ]
    },
    {
      "cell_type": "markdown",
      "metadata": {
        "id": "liAc8o259jrC"
      },
      "source": [
        "Having two possible quotation signs allows for having strings with quotes inside:"
      ]
    },
    {
      "cell_type": "code",
      "execution_count": null,
      "metadata": {
        "id": "B9HZT5E99jrC",
        "outputId": "3a2d1e95-98e4-4950-a368-b83da4c650f9",
        "colab": {
          "base_uri": "https://localhost:8080/"
        }
      },
      "outputs": [
        {
          "output_type": "stream",
          "name": "stdout",
          "text": [
            "The name of our school is 'WBS CODING SCHOOL', which can be abbreviated to 'WBSCS'\n",
            "The name of our school is \"WBS CODING SCHOOL\", which can be abbreviated to \"WBSCS\"\n"
          ]
        }
      ],
      "source": [
        "print(\"The name of our school is 'WBS CODING SCHOOL', which can be abbreviated to 'WBSCS'\")\n",
        "\n",
        "print('The name of our school is \"WBS CODING SCHOOL\", which can be abbreviated to \"WBSCS\"')"
      ]
    },
    {
      "cell_type": "markdown",
      "metadata": {
        "id": "tGDtyD1S9jrC"
      },
      "source": [
        "If you need to create a multiple-line string, you can use triple quotes:"
      ]
    },
    {
      "cell_type": "code",
      "execution_count": null,
      "metadata": {
        "id": "OggB9_6q9jrC",
        "outputId": "4a01bb42-d620-447b-f473-80d0ea72af49",
        "colab": {
          "base_uri": "https://localhost:8080/"
        }
      },
      "outputs": [
        {
          "output_type": "stream",
          "name": "stdout",
          "text": [
            "Hold fast to dreams\n",
            "For if dreams die\n",
            "Life is a broken-winged bird\n",
            "That cannot fly.\n",
            "Hold fast to dreams\n",
            "For when dreams go\n",
            "Life is a barren field\n",
            "Frozen with snow.\n"
          ]
        }
      ],
      "source": [
        "poem = \"\"\"Hold fast to dreams\n",
        "For if dreams die\n",
        "Life is a broken-winged bird\n",
        "That cannot fly.\n",
        "Hold fast to dreams\n",
        "For when dreams go\n",
        "Life is a barren field\n",
        "Frozen with snow.\"\"\"\n",
        "\n",
        "print(poem)"
      ]
    },
    {
      "cell_type": "markdown",
      "metadata": {
        "id": "XMDVSzhl9jrC"
      },
      "source": [
        "You can create a string out of another data type with `str()`:"
      ]
    },
    {
      "cell_type": "code",
      "execution_count": null,
      "metadata": {
        "id": "Egjiy0FX9jrC",
        "outputId": "736cd503-b4c2-44a5-a380-3ef9d31f5002",
        "colab": {
          "base_uri": "https://localhost:8080/"
        }
      },
      "outputs": [
        {
          "output_type": "stream",
          "name": "stdout",
          "text": [
            "88\n"
          ]
        }
      ],
      "source": [
        "str_88 = str(88)\n",
        "print(str_88)"
      ]
    },
    {
      "cell_type": "code",
      "execution_count": null,
      "metadata": {
        "id": "sII6zfHc9jrC",
        "outputId": "1d8570a7-76a3-4164-cbdc-984088429d8e",
        "colab": {
          "base_uri": "https://localhost:8080/"
        }
      },
      "outputs": [
        {
          "output_type": "execute_result",
          "data": {
            "text/plain": [
              "str"
            ]
          },
          "metadata": {},
          "execution_count": 30
        }
      ],
      "source": [
        "type(str_88)"
      ]
    },
    {
      "cell_type": "markdown",
      "metadata": {
        "id": "YncConBM9jrC"
      },
      "source": [
        "By using the backslash `\\` preceding a character, we \"escape\" its usual meaning and give a special meaning to it. \n",
        "\n",
        "For example, `\\n` will add a new line, and `\\t` will add a tab:"
      ]
    },
    {
      "cell_type": "code",
      "execution_count": null,
      "metadata": {
        "id": "goss37jh9jrC",
        "outputId": "3359d3d2-0676-44a0-e32f-e39d1a7cc799",
        "colab": {
          "base_uri": "https://localhost:8080/"
        }
      },
      "outputs": [
        {
          "output_type": "stream",
          "name": "stdout",
          "text": [
            "This is the first line\n",
            "And this is the second one.\n"
          ]
        }
      ],
      "source": [
        "print(\"This is the first line\\nAnd this is the second one.\")"
      ]
    },
    {
      "cell_type": "code",
      "execution_count": null,
      "metadata": {
        "id": "pITgLZAt9jrC",
        "outputId": "43aa8345-a3f2-4988-8724-4fdf032c299b",
        "colab": {
          "base_uri": "https://localhost:8080/"
        }
      },
      "outputs": [
        {
          "output_type": "stream",
          "name": "stdout",
          "text": [
            "Before the tab\tAnd after the tab.\n"
          ]
        }
      ],
      "source": [
        "print(\"Before the tab\\tAnd after the tab.\")"
      ]
    },
    {
      "cell_type": "markdown",
      "metadata": {
        "id": "ecl__5ED9jrD"
      },
      "source": [
        "Similarly, you can escape quotes by using `\\`:"
      ]
    },
    {
      "cell_type": "code",
      "execution_count": null,
      "metadata": {
        "id": "mkBuneqa9jrD",
        "outputId": "045fb58d-6efc-4843-f3b4-cb9c40770ac7",
        "colab": {
          "base_uri": "https://localhost:8080/"
        }
      },
      "outputs": [
        {
          "output_type": "stream",
          "name": "stdout",
          "text": [
            "The world's largest rubber duck was 54'2\" by 67'7\" by 105'\n"
          ]
        }
      ],
      "source": [
        "fact = \"The world's largest rubber duck was 54'2\\\" by 67'7\\\" by 105'\"\n",
        "print(fact)"
      ]
    },
    {
      "cell_type": "markdown",
      "metadata": {
        "id": "-p906KkV9jrD"
      },
      "source": [
        "If you need to use a backslash inside your string, you type `\\\\`: the first backslash escapes the second one:"
      ]
    },
    {
      "cell_type": "code",
      "execution_count": null,
      "metadata": {
        "id": "aAy-Fro69jrE",
        "outputId": "f184021e-b8e1-4505-919b-16cd7f324e0b",
        "colab": {
          "base_uri": "https://localhost:8080/"
        }
      },
      "outputs": [
        {
          "output_type": "stream",
          "name": "stdout",
          "text": [
            "Please contemplate a single, one —and only one— backslash: \\\n"
          ]
        }
      ],
      "source": [
        "print(\"Please contemplate a single, one —and only one— backslash: \\\\\")"
      ]
    },
    {
      "cell_type": "markdown",
      "metadata": {
        "id": "GTFObd169jrE"
      },
      "source": [
        "By typing `r` before the quotes, we denote a string as a _raw string_, which will ignore any special meaning:"
      ]
    },
    {
      "cell_type": "code",
      "execution_count": null,
      "metadata": {
        "id": "m74jQvn89jrE",
        "outputId": "64644ec3-8305-4f88-b295-743e7a42a32c",
        "colab": {
          "base_uri": "https://localhost:8080/"
        }
      },
      "outputs": [
        {
          "output_type": "stream",
          "name": "stdout",
          "text": [
            "This will not create a new line \\n and here we will see two backslashes \\\\\n"
          ]
        }
      ],
      "source": [
        "raw_str = r\"This will not create a new line \\n and here we will see two backslashes \\\\\"\n",
        "print(raw_str)"
      ]
    },
    {
      "cell_type": "markdown",
      "metadata": {
        "id": "gdXLE6kg9jrF"
      },
      "source": [
        "You can combine strings using `+` and multiply them with `*`:"
      ]
    },
    {
      "cell_type": "code",
      "execution_count": null,
      "metadata": {
        "id": "60DFFaI29jrF",
        "outputId": "d99a2826-b32c-4f63-e839-e8a16e913825",
        "colab": {
          "base_uri": "https://localhost:8080/"
        }
      },
      "outputs": [
        {
          "output_type": "stream",
          "name": "stdout",
          "text": [
            "DataScience\n"
          ]
        }
      ],
      "source": [
        "print(\"Data\" + \"Science\")"
      ]
    },
    {
      "cell_type": "code",
      "execution_count": null,
      "metadata": {
        "id": "Lc2l7DWQ9jrF",
        "outputId": "f69a233d-d0dd-4dcb-e4ea-3d9b87ebfed9",
        "colab": {
          "base_uri": "https://localhost:8080/"
        }
      },
      "outputs": [
        {
          "output_type": "stream",
          "name": "stdout",
          "text": [
            "DataDataDataDataDataDataDataDataDataData\n"
          ]
        }
      ],
      "source": [
        "print(\"Data\"*10)"
      ]
    },
    {
      "cell_type": "markdown",
      "metadata": {
        "id": "E6X3R-Qu9jrF"
      },
      "source": [
        "Using `[]`, you can grab certain characters from a string by specifying their position, either starting from the first element `[0]` or from the last one `[-1]`:"
      ]
    },
    {
      "cell_type": "code",
      "execution_count": null,
      "metadata": {
        "id": "kugvoRh59jrF",
        "outputId": "5d0f1143-d8c5-483b-f089-5b705c4489c7",
        "colab": {
          "base_uri": "https://localhost:8080/",
          "height": 35
        }
      },
      "outputs": [
        {
          "output_type": "execute_result",
          "data": {
            "text/plain": [
              "'a'"
            ],
            "application/vnd.google.colaboratory.intrinsic+json": {
              "type": "string"
            }
          },
          "metadata": {},
          "execution_count": 38
        }
      ],
      "source": [
        "letters = \"abcdefghijklmnopqrstuvwxyz\"\n",
        "\n",
        "letters[0]"
      ]
    },
    {
      "cell_type": "code",
      "execution_count": null,
      "metadata": {
        "id": "PhVVHG5O9jrF",
        "outputId": "00b12b79-835a-45c9-fc48-f209a27ce97c",
        "colab": {
          "base_uri": "https://localhost:8080/",
          "height": 35
        }
      },
      "outputs": [
        {
          "output_type": "execute_result",
          "data": {
            "text/plain": [
              "'c'"
            ],
            "application/vnd.google.colaboratory.intrinsic+json": {
              "type": "string"
            }
          },
          "metadata": {},
          "execution_count": 39
        }
      ],
      "source": [
        "letters[2]"
      ]
    },
    {
      "cell_type": "code",
      "execution_count": null,
      "metadata": {
        "id": "_GUQzusO9jrF",
        "outputId": "2958341c-f09f-4137-cd05-43fae12e6257",
        "colab": {
          "base_uri": "https://localhost:8080/",
          "height": 35
        }
      },
      "outputs": [
        {
          "output_type": "execute_result",
          "data": {
            "text/plain": [
              "'z'"
            ],
            "application/vnd.google.colaboratory.intrinsic+json": {
              "type": "string"
            }
          },
          "metadata": {},
          "execution_count": 40
        }
      ],
      "source": [
        "letters[-1]"
      ]
    },
    {
      "cell_type": "code",
      "execution_count": null,
      "metadata": {
        "id": "V5_KTTMm9jrF",
        "outputId": "fb8dec1a-a695-467c-fd84-1f9c1e9bc38d",
        "colab": {
          "base_uri": "https://localhost:8080/",
          "height": 35
        }
      },
      "outputs": [
        {
          "output_type": "execute_result",
          "data": {
            "text/plain": [
              "'w'"
            ],
            "application/vnd.google.colaboratory.intrinsic+json": {
              "type": "string"
            }
          },
          "metadata": {},
          "execution_count": 41
        }
      ],
      "source": [
        "letters [-4]"
      ]
    },
    {
      "cell_type": "markdown",
      "metadata": {
        "id": "XaVoo-1O9jrF"
      },
      "source": [
        "You can _slice_ a string using `[start:end]`. Note that the start is inclusive, but the end is not:"
      ]
    },
    {
      "cell_type": "code",
      "execution_count": null,
      "metadata": {
        "id": "oZe67mOX9jrF",
        "outputId": "3bfe0a54-fc33-4548-dbb9-318cf13d9ab9",
        "colab": {
          "base_uri": "https://localhost:8080/",
          "height": 35
        }
      },
      "outputs": [
        {
          "output_type": "execute_result",
          "data": {
            "text/plain": [
              "'bcde'"
            ],
            "application/vnd.google.colaboratory.intrinsic+json": {
              "type": "string"
            }
          },
          "metadata": {},
          "execution_count": 42
        }
      ],
      "source": [
        "letters[1:5]"
      ]
    },
    {
      "cell_type": "markdown",
      "metadata": {
        "id": "V3z2_t-L9jrG"
      },
      "source": [
        "If you don't specify the start, the slice will start at the beginning of the string. Same goes for the end:"
      ]
    },
    {
      "cell_type": "code",
      "execution_count": null,
      "metadata": {
        "id": "aG7gvGat9jrG",
        "outputId": "bc39db12-3e2d-4248-a9a6-e27f242860f3",
        "colab": {
          "base_uri": "https://localhost:8080/",
          "height": 35
        }
      },
      "outputs": [
        {
          "output_type": "execute_result",
          "data": {
            "text/plain": [
              "'abcd'"
            ],
            "application/vnd.google.colaboratory.intrinsic+json": {
              "type": "string"
            }
          },
          "metadata": {},
          "execution_count": 43
        }
      ],
      "source": [
        "letters[:4]"
      ]
    },
    {
      "cell_type": "code",
      "execution_count": null,
      "metadata": {
        "id": "byxy0Fxu9jrG",
        "outputId": "b203ecb2-5733-4794-a35e-2c0a86c171c2",
        "colab": {
          "base_uri": "https://localhost:8080/",
          "height": 35
        }
      },
      "outputs": [
        {
          "output_type": "execute_result",
          "data": {
            "text/plain": [
              "'efghijklmnopqrstuvwxyz'"
            ],
            "application/vnd.google.colaboratory.intrinsic+json": {
              "type": "string"
            }
          },
          "metadata": {},
          "execution_count": 44
        }
      ],
      "source": [
        "letters[4:]"
      ]
    },
    {
      "cell_type": "markdown",
      "metadata": {
        "id": "boj3LTz89jrG"
      },
      "source": [
        "Counting how many characters are there in a string can be done with `len()`:"
      ]
    },
    {
      "cell_type": "code",
      "execution_count": null,
      "metadata": {
        "id": "ls59e3gu9jrG",
        "outputId": "385737e8-0f1d-44a1-9b66-541403c73b9d",
        "colab": {
          "base_uri": "https://localhost:8080/"
        }
      },
      "outputs": [
        {
          "output_type": "execute_result",
          "data": {
            "text/plain": [
              "26"
            ]
          },
          "metadata": {},
          "execution_count": 45
        }
      ],
      "source": [
        "len(letters)"
      ]
    },
    {
      "cell_type": "markdown",
      "metadata": {
        "id": "7WyQW4Ig9jrG"
      },
      "source": [
        "The `split` function lets you brake a string into smaller strings at a certain character:"
      ]
    },
    {
      "cell_type": "code",
      "execution_count": null,
      "metadata": {
        "id": "uQ1bJH_z9jrG"
      },
      "outputs": [],
      "source": [
        "jobs = \"Data Scientist, Data Analyst, Data Engineer, Business Analyst, Marketing Analyst, Analytics Consultant\""
      ]
    },
    {
      "cell_type": "code",
      "execution_count": null,
      "metadata": {
        "id": "XeizyHTZ9jrG",
        "outputId": "09633781-04c4-46a2-9a19-fa4e31f31825",
        "colab": {
          "base_uri": "https://localhost:8080/",
          "height": 35
        }
      },
      "outputs": [
        {
          "output_type": "execute_result",
          "data": {
            "text/plain": [
              "'Data Scientist, Data Analyst, Data Engineer, Business Analyst, Marketing Analyst, Analytics Consultant'"
            ],
            "application/vnd.google.colaboratory.intrinsic+json": {
              "type": "string"
            }
          },
          "metadata": {},
          "execution_count": 47
        }
      ],
      "source": [
        "jobs"
      ]
    },
    {
      "cell_type": "code",
      "execution_count": null,
      "metadata": {
        "id": "MGMy9Lvs9jrG",
        "outputId": "39605a99-c3ca-4b0b-9542-7ec44aa27da1",
        "colab": {
          "base_uri": "https://localhost:8080/"
        }
      },
      "outputs": [
        {
          "output_type": "execute_result",
          "data": {
            "text/plain": [
              "['Data Scientist',\n",
              " ' Data Analyst',\n",
              " ' Data Engineer',\n",
              " ' Business Analyst',\n",
              " ' Marketing Analyst',\n",
              " ' Analytics Consultant']"
            ]
          },
          "metadata": {},
          "execution_count": 48
        }
      ],
      "source": [
        "jobs.split(\",\")"
      ]
    },
    {
      "cell_type": "markdown",
      "metadata": {
        "id": "jTkK-9YB9jrG"
      },
      "source": [
        "You can substitute a character using `replace()`:"
      ]
    },
    {
      "cell_type": "code",
      "execution_count": null,
      "metadata": {
        "id": "EfRAH1DQ9jrG",
        "outputId": "bf53a218-3174-43be-fcbc-6c37b4b0d0aa",
        "colab": {
          "base_uri": "https://localhost:8080/",
          "height": 35
        }
      },
      "outputs": [
        {
          "output_type": "execute_result",
          "data": {
            "text/plain": [
              "'Duck Scientist, Duck Analyst, Duck Engineer, Business Analyst, Marketing Analyst, Analytics Consultant'"
            ],
            "application/vnd.google.colaboratory.intrinsic+json": {
              "type": "string"
            }
          },
          "metadata": {},
          "execution_count": 49
        }
      ],
      "source": [
        "jobs.replace(\"Data\", \"Duck\")"
      ]
    },
    {
      "cell_type": "markdown",
      "metadata": {
        "id": "8kcFyXzW9jrG"
      },
      "source": [
        "You can specify how many times do you want to make that replacement:"
      ]
    },
    {
      "cell_type": "code",
      "execution_count": null,
      "metadata": {
        "id": "UVpKW6vN9jrH",
        "outputId": "d8c37376-7c83-423f-ac0b-ff5246977309",
        "colab": {
          "base_uri": "https://localhost:8080/",
          "height": 35
        }
      },
      "outputs": [
        {
          "output_type": "execute_result",
          "data": {
            "text/plain": [
              "'Duck Scientist, Duck Analyst, Data Engineer, Business Analyst, Marketing Analyst, Analytics Consultant'"
            ],
            "application/vnd.google.colaboratory.intrinsic+json": {
              "type": "string"
            }
          },
          "metadata": {},
          "execution_count": 50
        }
      ],
      "source": [
        "jobs.replace(\"Data\", \"Duck\", 2)"
      ]
    },
    {
      "cell_type": "markdown",
      "metadata": {
        "id": "eOoL1zpB9jrH"
      },
      "source": [
        "A very common process in data cleaning is to remove preceeding and trailing spaces from strings. The function `strip()` does exactly that:"
      ]
    },
    {
      "cell_type": "code",
      "execution_count": null,
      "metadata": {
        "id": "hk0Udvyn9jrH",
        "outputId": "b3aad488-b738-42a3-9639-b18a8eb1a8a9",
        "colab": {
          "base_uri": "https://localhost:8080/"
        }
      },
      "outputs": [
        {
          "output_type": "stream",
          "name": "stdout",
          "text": [
            "                     wow                     \n"
          ]
        }
      ],
      "source": [
        "wow = \"                     wow                     \"\n",
        "print(wow)"
      ]
    },
    {
      "cell_type": "code",
      "execution_count": null,
      "metadata": {
        "id": "mZWhXNBD9jrH",
        "outputId": "924c2db2-f54f-4ada-c1e0-69f826ba0464",
        "colab": {
          "base_uri": "https://localhost:8080/",
          "height": 35
        }
      },
      "outputs": [
        {
          "output_type": "execute_result",
          "data": {
            "text/plain": [
              "'wow'"
            ],
            "application/vnd.google.colaboratory.intrinsic+json": {
              "type": "string"
            }
          },
          "metadata": {},
          "execution_count": 52
        }
      ],
      "source": [
        "wow.strip()"
      ]
    },
    {
      "cell_type": "markdown",
      "metadata": {
        "id": "O8qkC9Ug9jrH"
      },
      "source": [
        "There are many more string methods in Python. Browse through them here: https://www.w3schools.com/python/python_ref_string.asp \n",
        "\n",
        "About 99.9% of the time, coding does not mean memorizing functions and knowing by heart how to use them, but being quick in finding the function to need, discovering how to use them reading the documentation or simply adapting coding examples from the internet to meet your needs. \n",
        "\n",
        "In the exercises below, you will have to use several Python string methods, in combination with what you've learned here. Use the link from _w3schools_ or Google around to complete them."
      ]
    },
    {
      "cell_type": "markdown",
      "metadata": {
        "id": "iYebLIcM9jrH"
      },
      "source": [
        "**Exercises:**\n",
        "\n",
        "1. Create a Python string with the following text, and assign it to the variable `data_science`:\n",
        "\n",
        "Data science is an interdisciplinary field that uses scientific methods, processes, algorithms and systems to extract knowledge and insights from noisy, structured and unstructured data, and apply knowledge and actionable insights from data across a broad range of application domains. \n",
        "\n",
        "Data science is related to data mining, machine learning and big data. Data science is a \"concept to unify statistics, data analysis, informatics, and their related methods\" in order to \"understand and analyze actual phenomena\" with data. It uses techniques and theories drawn from many fields within the context of mathematics, statistics, computer science, information science, and domain knowledge. However, data science is different from computer science and information science. Turing Award winner Jim Gray imagined data science as a \"fourth paradigm\" of science (empirical, theoretical, computational, and now data-driven) and asserted that \"everything about science is changing because of the impact of information technology\" and the data deluge."
      ]
    },
    {
      "cell_type": "code",
      "execution_count": null,
      "metadata": {
        "id": "sqWvKQMU9jrH",
        "outputId": "50a82cf3-8836-445f-d8e0-abc615e8966c",
        "colab": {
          "base_uri": "https://localhost:8080/",
          "height": 122
        }
      },
      "outputs": [
        {
          "output_type": "execute_result",
          "data": {
            "text/plain": [
              "'Data science is an interdisciplinary field that uses scientific methods, processes, algorithms and systems to extract knowledge and insights from noisy, structured and unstructured data, and apply knowledge and actionable insights from data across a broad range of application domains.\\n\\nData science is related to data mining, machine learning and big data. Data science is a \"concept to unify statistics, data analysis, informatics, and their related methods\" in order to \"understand and analyze actual phenomena\" with data. It uses techniques and theories drawn from many fields within the context of mathematics, statistics, computer science, information science, and domain knowledge. However, data science is different from computer science and information science. Turing Award winner Jim Gray imagined data science as a \"fourth paradigm\" of science (empirical, theoretical, computational, and now data-driven) and asserted that \"everything about science is changing because of the impact of information technology\" and the data deluge.'"
            ],
            "application/vnd.google.colaboratory.intrinsic+json": {
              "type": "string"
            }
          },
          "metadata": {},
          "execution_count": 53
        }
      ],
      "source": [
        "data_science = '''Data science is an interdisciplinary field that uses scientific methods, processes, algorithms and systems to extract knowledge and insights from noisy, structured and unstructured data, and apply knowledge and actionable insights from data across a broad range of application domains.\n",
        "\n",
        "Data science is related to data mining, machine learning and big data. Data science is a \"concept to unify statistics, data analysis, informatics, and their related methods\" in order to \"understand and analyze actual phenomena\" with data. It uses techniques and theories drawn from many fields within the context of mathematics, statistics, computer science, information science, and domain knowledge. However, data science is different from computer science and information science. Turing Award winner Jim Gray imagined data science as a \"fourth paradigm\" of science (empirical, theoretical, computational, and now data-driven) and asserted that \"everything about science is changing because of the impact of information technology\" and the data deluge.'''\n",
        "data_science"
      ]
    },
    {
      "cell_type": "markdown",
      "metadata": {
        "id": "g8DIfhZ_9jrH"
      },
      "source": [
        "2. How many characters are there in the string?"
      ]
    },
    {
      "cell_type": "code",
      "execution_count": null,
      "metadata": {
        "id": "q6gDSO3E9jrH",
        "outputId": "19fa36fb-49a9-4540-b5cc-ba4eb402c456",
        "colab": {
          "base_uri": "https://localhost:8080/"
        }
      },
      "outputs": [
        {
          "output_type": "execute_result",
          "data": {
            "text/plain": [
              "1042"
            ]
          },
          "metadata": {},
          "execution_count": 54
        }
      ],
      "source": [
        "cnt = len(data_science)\n",
        "cnt"
      ]
    },
    {
      "cell_type": "markdown",
      "metadata": {
        "id": "cnXae6C19jrI"
      },
      "source": [
        "3. Convert all the string to lower case."
      ]
    },
    {
      "cell_type": "code",
      "execution_count": null,
      "metadata": {
        "id": "VsUPsobG9jrI",
        "outputId": "04eedeaa-030f-4baa-8395-8d3c64d18fe9",
        "colab": {
          "base_uri": "https://localhost:8080/",
          "height": 122
        }
      },
      "outputs": [
        {
          "output_type": "execute_result",
          "data": {
            "text/plain": [
              "'data science is an interdisciplinary field that uses scientific methods, processes, algorithms and systems to extract knowledge and insights from noisy, structured and unstructured data, and apply knowledge and actionable insights from data across a broad range of application domains.\\n\\ndata science is related to data mining, machine learning and big data. data science is a \"concept to unify statistics, data analysis, informatics, and their related methods\" in order to \"understand and analyze actual phenomena\" with data. it uses techniques and theories drawn from many fields within the context of mathematics, statistics, computer science, information science, and domain knowledge. however, data science is different from computer science and information science. turing award winner jim gray imagined data science as a \"fourth paradigm\" of science (empirical, theoretical, computational, and now data-driven) and asserted that \"everything about science is changing because of the impact of information technology\" and the data deluge.'"
            ],
            "application/vnd.google.colaboratory.intrinsic+json": {
              "type": "string"
            }
          },
          "metadata": {},
          "execution_count": 55
        }
      ],
      "source": [
        "data_science_lower = data_science.lower();\n",
        "data_science_lower"
      ]
    },
    {
      "cell_type": "markdown",
      "metadata": {
        "id": "M2ig3CBO9jrI"
      },
      "source": [
        "4. How many times do the word \"data\" appear (in the string you converted to lower case)?"
      ]
    },
    {
      "cell_type": "code",
      "execution_count": null,
      "metadata": {
        "id": "d3xnrIw69jrJ",
        "outputId": "4a85ae2a-183d-4dd7-ed4e-c69998bb7c8a",
        "colab": {
          "base_uri": "https://localhost:8080/"
        }
      },
      "outputs": [
        {
          "output_type": "execute_result",
          "data": {
            "text/plain": [
              "13"
            ]
          },
          "metadata": {},
          "execution_count": 56
        }
      ],
      "source": [
        "result= data_science_lower.count('data')\n",
        "result"
      ]
    },
    {
      "cell_type": "markdown",
      "metadata": {
        "id": "sqLnagdM9jrK"
      },
      "source": [
        "5. Separate the string into sentences, breaking it down whenever there is a stop (`.`)."
      ]
    },
    {
      "cell_type": "code",
      "execution_count": null,
      "metadata": {
        "id": "IiV2QyrT9jrK",
        "outputId": "e915329e-a321-4545-a2a4-a8b6130a0398",
        "colab": {
          "base_uri": "https://localhost:8080/"
        }
      },
      "outputs": [
        {
          "output_type": "execute_result",
          "data": {
            "text/plain": [
              "['Data science is an interdisciplinary field that uses scientific methods, processes, algorithms and systems to extract knowledge and insights from noisy, structured and unstructured data, and apply knowledge and actionable insights from data across a broad range of application domains.\\n\\nData science is related to data mining, machine learning and big data',\n",
              " 'Data science is a \"concept to unify statistics, data analysis, informatics, and their related methods\" in order to \"understand and analyze actual phenomena\" with data',\n",
              " 'It uses techniques and theories drawn from many fields within the context of mathematics, statistics, computer science, information science, and domain knowledge',\n",
              " 'However, data science is different from computer science and information science',\n",
              " 'Turing Award winner Jim Gray imagined data science as a \"fourth paradigm\" of science (empirical, theoretical, computational, and now data-driven) and asserted that \"everything about science is changing because of the impact of information technology\" and the data deluge.']"
            ]
          },
          "metadata": {},
          "execution_count": 57
        }
      ],
      "source": [
        "result = data_science.rsplit('. ')\n",
        "result"
      ]
    },
    {
      "cell_type": "markdown",
      "metadata": {
        "id": "EesNFTTO9jrK"
      },
      "source": [
        "6. Capitalize all the words of the string."
      ]
    },
    {
      "cell_type": "code",
      "execution_count": null,
      "metadata": {
        "id": "kpZGn0NK9jrK",
        "outputId": "da8ea2d5-21eb-44e6-be24-2e7929c99ccb",
        "colab": {
          "base_uri": "https://localhost:8080/",
          "height": 122
        }
      },
      "outputs": [
        {
          "output_type": "execute_result",
          "data": {
            "text/plain": [
              "'Data Science Is An Interdisciplinary Field That Uses Scientific Methods, Processes, Algorithms And Systems To Extract Knowledge And Insights From Noisy, Structured And Unstructured Data, And Apply Knowledge And Actionable Insights From Data Across A Broad Range Of Application Domains.\\n\\nData Science Is Related To Data Mining, Machine Learning And Big Data. Data Science Is A \"Concept To Unify Statistics, Data Analysis, Informatics, And Their Related Methods\" In Order To \"Understand And Analyze Actual Phenomena\" With Data. It Uses Techniques And Theories Drawn From Many Fields Within The Context Of Mathematics, Statistics, Computer Science, Information Science, And Domain Knowledge. However, Data Science Is Different From Computer Science And Information Science. Turing Award Winner Jim Gray Imagined Data Science As A \"Fourth Paradigm\" Of Science (Empirical, Theoretical, Computational, And Now Data-Driven) And Asserted That \"Everything About Science Is Changing Because Of The Impact Of Information Technology\" And The Data Deluge.'"
            ],
            "application/vnd.google.colaboratory.intrinsic+json": {
              "type": "string"
            }
          },
          "metadata": {},
          "execution_count": 58
        }
      ],
      "source": [
        "data_science_title = data_science_lower.title()\n",
        "data_science_title"
      ]
    },
    {
      "cell_type": "markdown",
      "metadata": {
        "id": "1uTXO2NB9jrK"
      },
      "source": [
        "7. Find the position of the word \"Turing\" in the string."
      ]
    },
    {
      "cell_type": "code",
      "execution_count": null,
      "metadata": {
        "id": "HuV6OUsQ9jrK",
        "outputId": "0084793c-cac7-49f8-d5a4-dd30777eded5",
        "colab": {
          "base_uri": "https://localhost:8080/"
        }
      },
      "outputs": [
        {
          "output_type": "execute_result",
          "data": {
            "text/plain": [
              "771"
            ]
          },
          "metadata": {},
          "execution_count": 59
        }
      ],
      "source": [
        "index = data_science.index('Turing')\n",
        "index"
      ]
    },
    {
      "cell_type": "markdown",
      "metadata": {
        "id": "QY5ao8e09jrK"
      },
      "source": [
        "### Fromatting with f-strings\n",
        "\n",
        "Strings can be concatenated with `+`. Sometimes, you need to _interpolate_ values into strings. \n",
        "\n",
        "Say you work for a logistics company and have a script that calculates the number of trucks that should be made ready for the next day. You want this number to be included in the sentence of an email, like this: `\"For tomorrow, we will need x trucks.\"` But replacing x with your value.\n",
        "\n",
        "This task is known as formatting strings. It can be confusing to learn this by just browsing the internet, because there are many ways to format strings in Python: the old one (using `%`), the new one (using `{}`and `format()`) and the newest one (using f-strings).\n",
        "\n",
        "We will only show you how to use f-strings, but be ready to stumble onto the other ones at any time!"
      ]
    },
    {
      "cell_type": "code",
      "execution_count": null,
      "metadata": {
        "id": "uUtDC4nG9jrK",
        "outputId": "83efc707-3442-4a5e-e8f9-16372f01d18f",
        "colab": {
          "base_uri": "https://localhost:8080/"
        }
      },
      "outputs": [
        {
          "output_type": "stream",
          "name": "stdout",
          "text": [
            "For tomorrow, we will need 73 trucks.\n"
          ]
        }
      ],
      "source": [
        "n_trucks = 73\n",
        "\n",
        "email = f\"For tomorrow, we will need {n_trucks} trucks.\"\n",
        "\n",
        "print(email)"
      ]
    },
    {
      "cell_type": "markdown",
      "metadata": {
        "id": "wu4jlS659jrK"
      },
      "source": [
        "The curly brackets support expressions like those:"
      ]
    },
    {
      "cell_type": "code",
      "execution_count": null,
      "metadata": {
        "id": "SoWNRe6P9jrK",
        "outputId": "7178e4e8-b7dd-4a98-cfd3-1ebdcbfd117d",
        "colab": {
          "base_uri": "https://localhost:8080/"
        }
      },
      "outputs": [
        {
          "output_type": "stream",
          "name": "stdout",
          "text": [
            "For tomorrow, we will need 83 trucks in the Main Garage.\n"
          ]
        }
      ],
      "source": [
        "place = \"main garage\"\n",
        "\n",
        "email = f\"For tomorrow, we will need {n_trucks+10} trucks in the {place.title()}.\"\n",
        "\n",
        "print(email)"
      ]
    },
    {
      "cell_type": "markdown",
      "metadata": {
        "id": "qqMvu4G19jrL"
      },
      "source": [
        "**Exercise**: Convert the `data_science` string from the previous exercise into an f-string, replacing the name \"Jim Gray\" by the variable `jim` that we define here:"
      ]
    },
    {
      "cell_type": "code",
      "execution_count": null,
      "metadata": {
        "id": "leloOVdx9jrL"
      },
      "outputs": [],
      "source": [
        "jim = \"James Nicholas Gray\""
      ]
    },
    {
      "cell_type": "code",
      "execution_count": null,
      "metadata": {
        "id": "jbveObbY9jrL",
        "outputId": "21e26bfd-d31b-4f32-836e-ee5b6e5d5f12",
        "colab": {
          "base_uri": "https://localhost:8080/"
        }
      },
      "outputs": [
        {
          "output_type": "execute_result",
          "data": {
            "text/plain": [
              "'Data science is an interdisciplinary field that uses scientific methods, processes, algorithms and systems to extract knowledge and insights from noisy, structured and unstructured data, and apply knowledge and actionable insights from data across a broad range of application domains.\\n\\nData science is related to data mining, machine learning and big data. Data science is a \"concept to unify statistics, data analysis, informatics, and their related methods\" in order to \"understand and analyze actual phenomena\" with data. It uses techniques and theories drawn from many fields within the context of mathematics, statistics, computer science, information science, and domain knowledge. However, data science is different from computer science and information science. Turing Award winner James Nicholas Gray imagined data science as a \"fourth paradigm\" of science (empirical, theoretical, computational, and now data-driven) and asserted that \"everything about science is changing because of the impact of information technology\" and the data deluge.'"
            ],
            "application/vnd.google.colaboratory.intrinsic+json": {
              "type": "string"
            }
          },
          "metadata": {},
          "execution_count": 63
        }
      ],
      "source": [
        "data_science = f'{data_science.replace(\"Jim Gray\",jim)}'\n",
        "data_science"
      ]
    }
  ],
  "metadata": {
    "kernelspec": {
      "display_name": "Python 3",
      "language": "python",
      "name": "python3"
    },
    "language_info": {
      "codemirror_mode": {
        "name": "ipython",
        "version": 3
      },
      "file_extension": ".py",
      "mimetype": "text/x-python",
      "name": "python",
      "nbconvert_exporter": "python",
      "pygments_lexer": "ipython3",
      "version": "3.8.8"
    },
    "colab": {
      "name": "Copy of 1-numbers-strings.ipynb",
      "provenance": [],
      "collapsed_sections": [
        "mIrc9DDk9jq8",
        "79CbyD_G9jrA",
        "SJAbW5In9jrB",
        "QY5ao8e09jrK"
      ],
      "include_colab_link": true
    }
  },
  "nbformat": 4,
  "nbformat_minor": 0
}